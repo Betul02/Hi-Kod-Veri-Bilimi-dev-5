{
 "cells": [
  {
   "cell_type": "markdown",
   "metadata": {},
   "source": [
    "### Ödev 1\n",
    "\n",
    "Bir sözlük oluşturulur ve bu sözlükte öğrencilerin isimleri ve Matematik, Fizik, Kimya notları tutulur. Kullanıcıdan isim ve ders ismi(Matematik, Fizik, Kimya) istenir ve bu bilgilere göre çıktı verilir."
   ]
  },
  {
   "cell_type": "code",
   "execution_count": 1,
   "metadata": {},
   "outputs": [
    {
     "name": "stdout",
     "output_type": "stream",
     "text": [
      "Lütfen isminizi giriniz: Havva Nur\n",
      "Not bilgisini öğrenmek istediğiniz dersi giriniz: Matematik\n",
      "80\n"
     ]
    }
   ],
   "source": [
    "sözlük = {\"Havva Nur\" : {\"Matematik\":\"80\",\n",
    "                         \"Fizik\":\"75\",\n",
    "                         \"Kimya\":\"78\"},\n",
    "          \"Elif Zeki\" : {\"Matematik\":\"93\",\n",
    "                         \"Fizik\":\"86\",\n",
    "                         \"Kimya\":\"96\"},\n",
    "          \"Esra Çimen\" : {\"Matematik\":\"78\",\n",
    "                          \"Fizik\":\"68\",\n",
    "                          \"Kimya\":\"83\"}}\n",
    "\n",
    "isim = input(\"Lütfen isminizi giriniz: \")\n",
    "ders_ismi = input(\"Not bilgisini öğrenmek istediğiniz dersi giriniz: \")\n",
    "\n",
    "print(sözlük[isim][ders_ismi])\n"
   ]
  },
  {
   "cell_type": "markdown",
   "metadata": {},
   "source": [
    "### Ödev 2\n",
    "\n",
    "Sözlük üzerinde değerleri değiştirme, yeni değer ekleme, kullanıcıya ulaşmak istediği bilgileri sorma gibi uygulamalar yapın."
   ]
  },
  {
   "cell_type": "code",
   "execution_count": 2,
   "metadata": {},
   "outputs": [
    {
     "data": {
      "text/plain": [
       "{'Havva Nur': {'Matematik': '80', 'Fizik': '75', 'Kimya': '78'},\n",
       " 'Elif Zeki': {'Matematik': '93', 'Fizik': '86', 'Kimya': '96'},\n",
       " 'Esra Çimen': {'Matematik': '78', 'Fizik': 75, 'Kimya': '83'}}"
      ]
     },
     "execution_count": 2,
     "metadata": {},
     "output_type": "execute_result"
    }
   ],
   "source": [
    "#değer değiştirme\n",
    "\n",
    "sözlük[\"Esra Çimen\"][\"Fizik\"]= 75\n",
    "sözlük"
   ]
  },
  {
   "cell_type": "code",
   "execution_count": 11,
   "metadata": {},
   "outputs": [
    {
     "data": {
      "text/plain": [
       "{'Havva Nur': {'Matematik': '80', 'Fizik': '75', 'Kimya': '78'},\n",
       " 'Elif Zeki': {'Matematik': '93', 'Fizik': '86', 'Kimya': '96'},\n",
       " 'Esra Çimen': {'Matematik': '78', 'Fizik': 75, 'Kimya': '83'},\n",
       " 'Atakan Gök': {'Matematik': '53', 'Fizik': '67', 'Kimya': '63'}}"
      ]
     },
     "execution_count": 11,
     "metadata": {},
     "output_type": "execute_result"
    }
   ],
   "source": [
    "#yeni değer ekleme\n",
    "\n",
    "isim = \"Atakan Gök\"\n",
    "ders_notları = {\"Matematik\": \"53\", \"Fizik\": \"67\", \"Kimya\": \"63\"}\n",
    "\n",
    "sözlük[isim] = ders_notları\n",
    "\n",
    "sözlük"
   ]
  },
  {
   "cell_type": "code",
   "execution_count": 13,
   "metadata": {},
   "outputs": [
    {
     "name": "stdout",
     "output_type": "stream",
     "text": [
      "Lütfen isminizi giriniz: Atakan Gök\n",
      "Not bilgisini öğrenmek istediğiniz dersi giriniz: Fizik\n",
      "67\n"
     ]
    }
   ],
   "source": [
    "#ulaşılmak istenen bilgiyi sorma\n",
    "isim = input(\"Lütfen isminizi giriniz: \")\n",
    "ders_ismi = input(\"Not bilgisini öğrenmek istediğiniz dersi giriniz: \")\n",
    "\n",
    "print(sözlük[isim][ders_ismi])"
   ]
  },
  {
   "cell_type": "code",
   "execution_count": null,
   "metadata": {},
   "outputs": [],
   "source": []
  },
  {
   "cell_type": "code",
   "execution_count": null,
   "metadata": {},
   "outputs": [],
   "source": []
  }
 ],
 "metadata": {
  "kernelspec": {
   "display_name": "Python 3 (ipykernel)",
   "language": "python",
   "name": "python3"
  },
  "language_info": {
   "codemirror_mode": {
    "name": "ipython",
    "version": 3
   },
   "file_extension": ".py",
   "mimetype": "text/x-python",
   "name": "python",
   "nbconvert_exporter": "python",
   "pygments_lexer": "ipython3",
   "version": "3.11.3"
  }
 },
 "nbformat": 4,
 "nbformat_minor": 2
}
